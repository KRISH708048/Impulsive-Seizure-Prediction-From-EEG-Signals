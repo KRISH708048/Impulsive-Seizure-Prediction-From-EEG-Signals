{
 "cells": [
  {
   "cell_type": "code",
   "execution_count": null,
   "id": "9307256d-884a-4c2d-87f5-e6305340f798",
   "metadata": {},
   "outputs": [],
   "source": [
    "from google.colab import drive\n",
    "drive.mount(\"/content/drive\")"
   ]
  },
  {
   "cell_type": "code",
   "execution_count": null,
   "id": "535c4a31-9846-4d1c-9a82-53233d6b30dc",
   "metadata": {},
   "outputs": [],
   "source": [
    "import os\n",
    "import numpy as np\n",
    "import pandas as pd\n",
    "import matplotlib.pyplot as plt\n",
    "from tensorflow.keras.models import Sequential\n",
    "from tensorflow.keras.layers import Dense, Conv1D, MaxPooling1D, Flatten, LSTM, Dropout\n",
    "from tensorflow.keras.optimizers import Adam\n",
    "from sklearn.model_selection import train_test_split\n",
    "\n",
    "input_shape = 15*8*300  # Assuming the data is reshaped to this format\n",
    "file_number = 366\n",
    "\n",
    "# Data Loader Function\n",
    "def load_data(data_dir):\n",
    "    X = []\n",
    "    y = []\n",
    "    \n",
    "    for file in os.listdir(data_dir):\n",
    "        if file.endswith('.csv'):\n",
    "            file_path = os.path.join(data_dir, file)\n",
    "            data = pd.read_csv(file_path, header=None).values.flatten()\n",
    "            data = np.array(data)\n",
    "            \n",
    "            label = 1 if 'seizure' in file.lower() else 0\n",
    "            y.append(label)\n",
    "            X.append(data)\n",
    "    \n",
    "    X = np.array(X).reshape(file_number, input_shape,1)\n",
    "    y = np.array(y).reshape(file_number, 1)\n",
    "    return X, y\n",
    "\n",
    "# Load Data\n",
    "print('DATA LOADER BEGINS')\n",
    "data_dir = \"/content/drive/MyDrive/DATASET\"\n",
    "X, y = load_data(data_dir)\n",
    "\n",
    "# Split Data\n",
    "X_train, X_test, y_train, y_test = train_test_split(X, y, test_size=0.20, random_state=42)\n",
    "print(\"DATA LOADED\")\n",
    "\n",
    "# Neural Network Model\n",
    "model = Sequential()\n",
    "\n",
    "# Convolutional Layer to Handle Matrix A\n",
    "model.add(Conv1D(filters=64, kernel_size=3, activation='relu', input_shape= (input_shape,1)))\n",
    "model.add(MaxPooling1D(pool_size=2))\n",
    "model.add(Dropout(0.5))\n",
    "\n",
    "# LSTM Layer for Time Series Data\n",
    "model.add(LSTM(25, return_sequences=True))\n",
    "model.add(Flatten())\n",
    "\n",
    "# Dense Layers\n",
    "model.add(Dense(64, activation='relu'))\n",
    "model.add(Dropout(0.5))\n",
    "model.add(Dense(1, activation='sigmoid'))\n",
    "\n",
    "# Compile the Model\n",
    "model.compile(optimizer=Adam(learning_rate=0.001), loss='binary_crossentropy', metrics=['accuracy'])\n",
    "\n",
    "# Train the Model\n",
    "history = model.fit(X_train, y_train, epochs=10, batch_size=8)\n",
    "\n",
    "# Evaluate the Model\n",
    "loss, accuracy = model.evaluate(X_test, y_test)\n",
    "print(\"******************************************************************************************************************************\")\n",
    "print(f'TEST ACCURACY: {accuracy:.4f}')\n",
    "\n",
    "# Save the Model\n",
    "model.save(\"/content/drive/MyDrive/seizure_detection_model.h5\")\n",
    "print('MODEL COMPILED AND SAVED')\n",
    "\n",
    "# Graph of Loss Against Epochs \n",
    "plt.plot(history.history['loss'], label='Training Loss')\n",
    "plt.xlabel('Epoch')\n",
    "plt.ylabel('Loss')\n",
    "plt.title('Loss Function vs. Epoch')\n",
    "plt.legend()\n",
    "plt.show()\n"
   ]
  },
  {
   "cell_type": "code",
   "execution_count": 1,
   "id": "34bff83d-0f9f-4364-b535-68db2990d55f",
   "metadata": {},
   "outputs": [
    {
     "data": {
      "text/plain": [
       "36000"
      ]
     },
     "execution_count": 1,
     "metadata": {},
     "output_type": "execute_result"
    }
   ],
   "source": [
    "15*8*300\n"
   ]
  }
 ],
 "metadata": {
  "kernelspec": {
   "display_name": "Python 3 (ipykernel)",
   "language": "python",
   "name": "python3"
  },
  "language_info": {
   "codemirror_mode": {
    "name": "ipython",
    "version": 3
   },
   "file_extension": ".py",
   "mimetype": "text/x-python",
   "name": "python",
   "nbconvert_exporter": "python",
   "pygments_lexer": "ipython3",
   "version": "3.12.4"
  }
 },
 "nbformat": 4,
 "nbformat_minor": 5
}
